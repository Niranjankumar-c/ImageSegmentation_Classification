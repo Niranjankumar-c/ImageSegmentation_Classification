{
 "cells": [
  {
   "cell_type": "markdown",
   "id": "f8309392",
   "metadata": {},
   "source": [
    "## Project 7- Image Segmentation and Classification"
   ]
  },
  {
   "cell_type": "markdown",
   "id": "582ff200",
   "metadata": {},
   "source": [
    "Healthcare organizations often deal with a significant volume of handwritten medical documents, including forms, prescriptions, and patient records. Manual digitization and analysis of these documents are time-consuming, error-prone, and resource-intensive, leading to inefficiencies and potential errors in patient care. To address these challenges, there is a need for an automated system that can accurately digitize and classify handwritten characters on medical documents, enabling efficient data entry and analysis.\n",
    "      \n",
    "Develop a deep learning-based solution capable of accurately classifying handwritten characters on medical documents using the MNIST dataset as a benchmark. The system should automatically process handwritten images, classify them into their respective digit categories (0 through 9), and output the digitized text for further analysis. The primary objective is to improve the efficiency, accuracy, and reliability of digitization processes in healthcare, ultimately enhancing patient care and administrative workflows"
   ]
  },
  {
   "cell_type": "markdown",
   "id": "ae2c1222",
   "metadata": {},
   "source": [
    "**Dataset Download details**\n",
    "\n",
    "from keras.datasets import mnist\n",
    "\n",
    "**Loading (downloaded if needed) the MNIST dataset** \n",
    "\n",
    "(X_train, y_train), (X_test, y_test) = mnist.load_data()"
   ]
  },
  {
   "cell_type": "markdown",
   "id": "dd905dc0",
   "metadata": {},
   "source": [
    "***Data Dictionary***\n",
    "\n",
    "The mnist_train.csv file contains the 60,000 training examples and labels. The mnist_test.csv contains 10,000 test examples and labels. Each row consists of 785 values: the first value is the label (a number from 0 to 9) and the remaining 784 values are the pixel values (a number from 0 to 255)."
   ]
  },
  {
   "cell_type": "markdown",
   "id": "50f6799d",
   "metadata": {},
   "source": [
    "**Initial Guidelines:**\n",
    "\n",
    "1.Ensure to follow to Use Id’s provided by UNext for naming file as conventions.\n",
    "2.Create GitHub account and submit the GitHub link."
   ]
  },
  {
   "cell_type": "markdown",
   "id": "ada8b2fd",
   "metadata": {},
   "source": [
    "### Software Engineering aspect:  \n",
    "\n",
    "Utilize software engineering aspects while building Machine learning model using modular programming principles to organize your code into reusable functions or classes to enhance readability, maintainability, and collaboration."
   ]
  },
  {
   "cell_type": "markdown",
   "id": "d2900ef8",
   "metadata": {},
   "source": [
    "### General Instructions\n",
    "\n",
    "- The cells in the Jupyter notebook can be executed any number of times for testing the solution\n",
    "- Refrain from modifying the boilerplate code as it may lead to unexpected behavior\n",
    "- The solution is to be written between the comments `# code starts here` and `# code ends here`\n",
    "- On completing all the questions, the assessment is to be submitted on moodle for evaluation\n",
    "- Before submitting the assessment, there should be `no error` while executing the notebook. If there are any error causing code, please comment it.\n",
    "- The kernel of the Jupyter notebook is to be set as `Python 3 (ipykernel)` if not set already\n",
    "- Include imports as necessary\n",
    "- For each of the task, `Note` section will provide you hints to solve the problem.\n",
    "- Do not use `PRINT` statement inside the `Except` Block. Please use `return` statement only within the except block"
   ]
  },
  {
   "cell_type": "markdown",
   "id": "dee23936",
   "metadata": {},
   "source": [
    "### Task 1: Load the dataset and perform preliminary EDA (Exploratory Data Analysis) with key observations and insights-      (weightage - 10 marks)"
   ]
  },
  {
   "cell_type": "markdown",
   "id": "6372fe55",
   "metadata": {},
   "source": [
    "#### T1.1Load the MNIST dataset using try and except blocks. State the dimensions of Train and Test dataset  (weightage – 1 mark)           (AE)"
   ]
  },
  {
   "cell_type": "code",
   "execution_count": 1,
   "id": "3910c48f",
   "metadata": {},
   "outputs": [
    {
     "name": "stderr",
     "output_type": "stream",
     "text": [
      "2024-07-18 12:22:55.412624: I tensorflow/tsl/cuda/cudart_stub.cc:28] Could not find cuda drivers on your machine, GPU will not be used.\n",
      "2024-07-18 12:22:56.577671: I tensorflow/tsl/cuda/cudart_stub.cc:28] Could not find cuda drivers on your machine, GPU will not be used.\n",
      "2024-07-18 12:22:56.581698: I tensorflow/core/platform/cpu_feature_guard.cc:182] This TensorFlow binary is optimized to use available CPU instructions in performance-critical operations.\n",
      "To enable the following instructions: AVX2 FMA, in other operations, rebuild TensorFlow with the appropriate compiler flags.\n",
      "2024-07-18 12:22:58.906280: W tensorflow/compiler/tf2tensorrt/utils/py_utils.cc:38] TF-TRT Warning: Could not find TensorRT\n"
     ]
    }
   ],
   "source": [
    "# Required imports\n",
    "import tensorflow as tf\n",
    "import numpy as np\n",
    "import pandas as pd\n",
    "import matplotlib.pyplot as plt "
   ]
  },
  {
   "cell_type": "markdown",
   "id": "7c6d258a",
   "metadata": {},
   "source": [
    "#### Note\n",
    "\n",
    "* Design a method named `load_mnist_data` to load the MNIST dataset using TensorFlow's `tf.keras.datasets.mnist.load_data() method`.\n",
    "* Load the MNIST data using `tf.keras.datasets.mnist.load_data()` and unpack the returned tuples. \n",
    "* Return X train,y train, X test and y test"
   ]
  },
  {
   "cell_type": "code",
   "execution_count": 2,
   "id": "4560f128",
   "metadata": {},
   "outputs": [],
   "source": [
    "def load_mnist_data():\n",
    "    try:\n",
    "        # Load MNIST data\n",
    "        (X_train, y_train), (X_test, y_test) = tf.keras.datasets.mnist.load_data()\n",
    "        return X_train, y_train, X_test, y_test\n",
    "    except Exception as e:\n",
    "        return \"An error occurred while loading MNIST data\""
   ]
  },
  {
   "cell_type": "code",
   "execution_count": 3,
   "id": "0a0fc05c",
   "metadata": {},
   "outputs": [
    {
     "name": "stdout",
     "output_type": "stream",
     "text": [
      "MNIST data loaded successfully.\n"
     ]
    }
   ],
   "source": [
    "X_train,y_train, X_test, y_test= load_mnist_data()\n",
    "\n",
    "if X_train is not None:\n",
    "    print(\"MNIST data loaded successfully.\")\n",
    "else:\n",
    "    print(\"Failed to load MNIST data.\")"
   ]
  },
  {
   "cell_type": "markdown",
   "id": "ba0e52c5-6328-41e0-b0d3-2d2aeec13d3d",
   "metadata": {},
   "source": [
    "##### Dimension of the Train and Test Dataset "
   ]
  },
  {
   "cell_type": "markdown",
   "id": "5db9877b",
   "metadata": {},
   "source": [
    "#### Note\n",
    "\n",
    "* Design a method named `check_dimensions` to check the dimensions (number of dimensions) of multiple numpy arrays.\n",
    "* Use the `*arrays` syntax to accept a variable number of arrays as input.\n",
    "* Use the `ndim` attribute to get its number of dimensions (array.ndim) and append it to the `dimensions` list.\n",
    "* Return "
   ]
  },
  {
   "cell_type": "code",
   "execution_count": 4,
   "id": "5ecf65e2",
   "metadata": {},
   "outputs": [],
   "source": [
    "def check_dimensions(*arrays):\n",
    "    dimensions = []\n",
    "    # Code starts here\n",
    "    for array in arrays:\n",
    "        dimensions.append(array.ndim)\n",
    "    return dimensions\n",
    "\n",
    "    # Code ends here\n",
    "    return dimensions"
   ]
  },
  {
   "cell_type": "code",
   "execution_count": 5,
   "id": "f9208354-0209-490b-a1b7-1ddd63c6115f",
   "metadata": {},
   "outputs": [
    {
     "data": {
      "text/plain": [
       "[3, 3, 1, 1]"
      ]
     },
     "execution_count": 5,
     "metadata": {},
     "output_type": "execute_result"
    }
   ],
   "source": [
    "check_dimensions(X_train,X_test,y_train,y_test)"
   ]
  },
  {
   "cell_type": "code",
   "execution_count": null,
   "id": "f44c989c",
   "metadata": {},
   "outputs": [],
   "source": []
  },
  {
   "cell_type": "markdown",
   "id": "38a336b6-cda1-41b5-9604-2966cca0bac5",
   "metadata": {},
   "source": [
    "#### Task 1.2: Shape of the Train and Test Dataset  (weightage – 1 mark)           (AE)"
   ]
  },
  {
   "cell_type": "markdown",
   "id": "c706775e",
   "metadata": {},
   "source": [
    "#### Note\n",
    "\n",
    "* Design a method named `get_shapes` to retrieve the shapes (dimensions) of multiple numpy arrays.\n",
    "* Use the `arrays` syntax to accept a variable number of arrays as input.\n",
    "* Use the `shape` attribute to get its shape (array.shape) and append it to the shapes list."
   ]
  },
  {
   "cell_type": "code",
   "execution_count": 6,
   "id": "f3e5f1bd",
   "metadata": {},
   "outputs": [],
   "source": [
    "def get_shapes(*arrays):\n",
    "    shapes = []\n",
    "    # Code starts here\n",
    "    for array in arrays:\n",
    "        shapes.append(array.shape)\n",
    "    # Code ends here\n",
    "    return shapes"
   ]
  },
  {
   "cell_type": "code",
   "execution_count": 7,
   "id": "64e20661-44d5-4571-805e-94197080d129",
   "metadata": {},
   "outputs": [
    {
     "data": {
      "text/plain": [
       "[(60000, 28, 28), (60000,), (10000, 28, 28), (10000,)]"
      ]
     },
     "execution_count": 7,
     "metadata": {},
     "output_type": "execute_result"
    }
   ],
   "source": [
    "get_shapes(X_train,y_train,X_test,y_test)"
   ]
  },
  {
   "cell_type": "code",
   "execution_count": 8,
   "id": "d48ad260",
   "metadata": {},
   "outputs": [
    {
     "data": {
      "text/plain": [
       "(60000, 28, 28)"
      ]
     },
     "execution_count": 8,
     "metadata": {},
     "output_type": "execute_result"
    }
   ],
   "source": [
    "X_train.shape"
   ]
  },
  {
   "cell_type": "markdown",
   "id": "48ff1b72-4a0e-4a1b-b396-124e2e4e4fab",
   "metadata": {},
   "source": [
    "#### T1.3: Visualize the image of 100, 101,201 & 600 image on the train dataset  (weightage – 1 mark)           (ME)"
   ]
  },
  {
   "cell_type": "markdown",
   "id": "d168add7",
   "metadata": {},
   "source": [
    "#### Note\n",
    "\n",
    "* Design a method named `visualize` to display a set of images from an array using matplotlib.\n",
    "* Use `plt.subplot()` to create subplots for each image and plot them accordingly.\n",
    "* Set the colormap to grayscale using `cmap='gray'` in `plt.imshow()` for grayscale visualization.\n",
    "* Adjust the subplot layout to ensure the images are displayed properly without overlapping. You can use plt.subplots() to create a figure with multiple subplots and control their arrangement.\n",
    "* Call `plt.show()` to display the plotted images after setting up the subplots."
   ]
  },
  {
   "cell_type": "code",
   "execution_count": 9,
   "id": "0f080af6",
   "metadata": {},
   "outputs": [],
   "source": [
    "def visualize(images):\n",
    "    if len(images) == 1:\n",
    "        plt.figure()\n",
    "        plt.imshow(images[0], cmap='gray')\n",
    "        plt.axis('off')\n",
    "        plt.show()\n",
    "    else:\n",
    "        fig, axs = plt.subplots(1, len(images), figsize=(10, 5))\n",
    "        for i, ax in enumerate(axs):\n",
    "            ax.imshow(images[i], cmap='gray')\n",
    "            ax.set_axis_off()\n",
    "        plt.show()"
   ]
  },
  {
   "cell_type": "code",
   "execution_count": 10,
   "id": "6edb92cf",
   "metadata": {},
   "outputs": [
    {
     "data": {
      "image/png": "[encoded data removed]",
      "text/plain": [
       "<Figure size 1000x500 with 4 Axes>"
      ]
     },
     "metadata": {},
     "output_type": "display_data"
    }
   ],
   "source": [
    "visualize([X_train[99], X_train[100], X_train[200], X_train[599]])"
   ]
  },
  {
   "cell_type": "markdown",
   "id": "92aa9938-64fc-4f48-9eaa-891dc4619a53",
   "metadata": {},
   "source": [
    "#### T1.4 : Represent the dataset X in a data frame after flattening the it ,and find out the first 5 values  (weightage - 1 mark) (AE)"
   ]
  },
  {
   "cell_type": "markdown",
   "id": "b6d7c48e",
   "metadata": {},
   "source": [
    "#### Note\n",
    "\n",
    "* Design a method named `preprocess_X_data` to reshape the input data (X_train and X_test) for further processing.\n",
    "* Use reshape to have 60000 rows and 28 * 28 columns.\n",
    "* Use reshape to have 10000 rows and 28 * 28 columns.\n",
    "* Return reshaped X_train,X_test"
   ]
  },
  {
   "cell_type": "code",
   "execution_count": 11,
   "id": "69f8469a",
   "metadata": {},
   "outputs": [],
   "source": [
    "def preprocess_X_data(X_train, X_test):\n",
    "    \n",
    "    # Reshape X_train and X_test\n",
    "    reshaped_X_train = X_train.reshape(X_train.shape[0], -1)\n",
    "    reshaped_X_test = X_test.reshape(X_test.shape[0], -1)\n",
    "    \n",
    "    # return reshaped X_train,X_test\n",
    "    return reshaped_X_train, reshaped_X_test"
   ]
  },
  {
   "cell_type": "code",
   "execution_count": 12,
   "id": "0ace3b6f",
   "metadata": {},
   "outputs": [],
   "source": [
    "X_train,X_test=preprocess_X_data(X_train,X_test)"
   ]
  },
  {
   "cell_type": "code",
   "execution_count": 13,
   "id": "fc80b119",
   "metadata": {},
   "outputs": [
    {
     "data": {
      "text/plain": [
       "((60000, 784), (10000, 784))"
      ]
     },
     "execution_count": 13,
     "metadata": {},
     "output_type": "execute_result"
    }
   ],
   "source": [
    "X_train.shape, X_test.shape"
   ]
  },
  {
   "cell_type": "markdown",
   "id": "74857880",
   "metadata": {},
   "source": [
    "#### Note\n",
    "\n",
    "* Design a method named `convert_df` to convert NumPy arrays (X_train and X_test) to pandas DataFrames.\n",
    "* Use `pd.DataFrame()` to convert X_train and X_test to pandas DataFrames.\n",
    "* Assign the converted DataFrames to new variables\n",
    "* Return the converted X_train and X_test"
   ]
  },
  {
   "cell_type": "code",
   "execution_count": 14,
   "id": "8cb38543",
   "metadata": {},
   "outputs": [],
   "source": [
    "# Convert to DataFrame\n",
    "def convert_df(X_train,X_test):\n",
    "    \n",
    "    # Convert X_train and X_test to pandas DataFrames\n",
    "    X_train_df = pd.DataFrame(X_train)\n",
    "    X_test_df = pd.DataFrame(X_test)\n",
    "       \n",
    "    # return the converted X_train and X_test\n",
    "    return X_train_df, X_test_df"
   ]
  },
  {
   "cell_type": "code",
   "execution_count": 15,
   "id": "51283293",
   "metadata": {},
   "outputs": [
    {
     "name": "stdout",
     "output_type": "stream",
     "text": [
      "   0    1    2    3    4    5    6    7    8    9    ...  774  775  776  777  \\\n",
      "0    0    0    0    0    0    0    0    0    0    0  ...    0    0    0    0   \n",
      "1    0    0    0    0    0    0    0    0    0    0  ...    0    0    0    0   \n",
      "2    0    0    0    0    0    0    0    0    0    0  ...    0    0    0    0   \n",
      "3    0    0    0    0    0    0    0    0    0    0  ...    0    0    0    0   \n",
      "4    0    0    0    0    0    0    0    0    0    0  ...    0    0    0    0   \n",
      "\n",
      "   778  779  780  781  782  783  \n",
      "0    0    0    0    0    0    0  \n",
      "1    0    0    0    0    0    0  \n",
      "2    0    0    0    0    0    0  \n",
      "3    0    0    0    0    0    0  \n",
      "4    0    0    0    0    0    0  \n",
      "\n",
      "[5 rows x 784 columns]\n",
      "   0    1    2    3    4    5    6    7    8    9    ...  774  775  776  777  \\\n",
      "0    0    0    0    0    0    0    0    0    0    0  ...    0    0    0    0   \n",
      "1    0    0    0    0    0    0    0    0    0    0  ...    0    0    0    0   \n",
      "2    0    0    0    0    0    0    0    0    0    0  ...    0    0    0    0   \n",
      "3    0    0    0    0    0    0    0    0    0    0  ...    0    0    0    0   \n",
      "4    0    0    0    0    0    0    0    0    0    0  ...    0    0    0    0   \n",
      "\n",
      "   778  779  780  781  782  783  \n",
      "0    0    0    0    0    0    0  \n",
      "1    0    0    0    0    0    0  \n",
      "2    0    0    0    0    0    0  \n",
      "3    0    0    0    0    0    0  \n",
      "4    0    0    0    0    0    0  \n",
      "\n",
      "[5 rows x 784 columns]\n"
     ]
    }
   ],
   "source": [
    "# Preprocess data using the function\n",
    "preprocessed_X_train, preprocessed_X_test = convert_df(X_train, X_test)\n",
    "print(preprocessed_X_train.head())\n",
    "print(preprocessed_X_test.head())"
   ]
  },
  {
   "cell_type": "markdown",
   "id": "807c10e3-f8d9-493d-8998-da1ae85daed3",
   "metadata": {},
   "source": [
    "#### T1.5: Find out the summary statistics of X_train and X_test data set : (weightage - 1 mark) (AE)"
   ]
  },
  {
   "cell_type": "markdown",
   "id": "d85d428e",
   "metadata": {},
   "source": [
    "#### Note\n",
    "\n",
    "* Design a method named `describe_data` to describe the statistical properties of the input data (X_train and X_test).\n",
    "* Use the reshape method to 2D arrays with a single dimension inferred automatically.\n",
    "* Reshape `X_train` and `X_test` to maintain the number of rows and infer the number of columns based on the data.\n",
    "* Convert the reshaped arrays to pandas DataFrames using `pd.DataFrame()`.\n",
    "* Use the `describe` method on the DataFrames to compute descriptive statistics (mean, std, min, max, quartiles) for each column.\n",
    "* Transpose the resulting descriptive statistics DataFrame using `transpose()` to have the statistics as rows and features as columns.\n",
    "* Return Train Description and Test Description in the same order"
   ]
  },
  {
   "cell_type": "code",
   "execution_count": 16,
   "id": "7e3b1652",
   "metadata": {},
   "outputs": [],
   "source": [
    "def describe_data(X_train, X_test):\n",
    "    # Reshape X_train and X_test to 2D arrays with inferred column dimension\n",
    "    X_train_reshaped = np.reshape(X_train, (X_train.shape[0], -1))\n",
    "    X_test_reshaped = np.reshape(X_test, (X_test.shape[0], -1))\n",
    "    \n",
    "    # # Convert to DataFrame and describe\n",
    "    X_train_df = pd.DataFrame(X_train_reshaped)\n",
    "    X_test_df = pd.DataFrame(X_test_reshaped)\n",
    "    \n",
    "    # Describe method to compute descriptive statistics\n",
    "    train_description = X_train_df.describe().transpose()\n",
    "    test_description = X_test_df.describe().transpose()\n",
    "\n",
    "    # Return Train Description and Test Description\n",
    "    return train_description, test_description"
   ]
  },
  {
   "cell_type": "code",
   "execution_count": 17,
   "id": "ec1ae864",
   "metadata": {},
   "outputs": [
    {
     "name": "stdout",
     "output_type": "stream",
     "text": [
      "       count   mean     std  min  25%  50%  75%   max\n",
      "0    60000.0  0.000  0.0000  0.0  0.0  0.0  0.0   0.0\n",
      "1    60000.0  0.000  0.0000  0.0  0.0  0.0  0.0   0.0\n",
      "2    60000.0  0.000  0.0000  0.0  0.0  0.0  0.0   0.0\n",
      "3    60000.0  0.000  0.0000  0.0  0.0  0.0  0.0   0.0\n",
      "4    60000.0  0.000  0.0000  0.0  0.0  0.0  0.0   0.0\n",
      "..       ...    ...     ...  ...  ...  ...  ...   ...\n",
      "779  60000.0  0.002  0.3466  0.0  0.0  0.0  0.0  62.0\n",
      "780  60000.0  0.000  0.0000  0.0  0.0  0.0  0.0   0.0\n",
      "781  60000.0  0.000  0.0000  0.0  0.0  0.0  0.0   0.0\n",
      "782  60000.0  0.000  0.0000  0.0  0.0  0.0  0.0   0.0\n",
      "783  60000.0  0.000  0.0000  0.0  0.0  0.0  0.0   0.0\n",
      "\n",
      "[784 rows x 8 columns]\n",
      "       count  mean  std  min  25%  50%  75%  max\n",
      "0    10000.0   0.0  0.0  0.0  0.0  0.0  0.0  0.0\n",
      "1    10000.0   0.0  0.0  0.0  0.0  0.0  0.0  0.0\n",
      "2    10000.0   0.0  0.0  0.0  0.0  0.0  0.0  0.0\n",
      "3    10000.0   0.0  0.0  0.0  0.0  0.0  0.0  0.0\n",
      "4    10000.0   0.0  0.0  0.0  0.0  0.0  0.0  0.0\n",
      "..       ...   ...  ...  ...  ...  ...  ...  ...\n",
      "779  10000.0   0.0  0.0  0.0  0.0  0.0  0.0  0.0\n",
      "780  10000.0   0.0  0.0  0.0  0.0  0.0  0.0  0.0\n",
      "781  10000.0   0.0  0.0  0.0  0.0  0.0  0.0  0.0\n",
      "782  10000.0   0.0  0.0  0.0  0.0  0.0  0.0  0.0\n",
      "783  10000.0   0.0  0.0  0.0  0.0  0.0  0.0  0.0\n",
      "\n",
      "[784 rows x 8 columns]\n"
     ]
    }
   ],
   "source": [
    "# Describe data using the function\n",
    "train_description, test_description = describe_data(X_train, X_test)\n",
    "print(train_description)\n",
    "print(test_description)"
   ]
  },
  {
   "cell_type": "markdown",
   "id": "2c8c12b9-3336-441e-a828-c5f41966c0d8",
   "metadata": {},
   "source": [
    "#### T1.6 : State the mean & Standard deviation of the image in test dataset present on index 35 (weightage - 1 mark) (AE)"
   ]
  },
  {
   "cell_type": "markdown",
   "id": "74571ea8",
   "metadata": {},
   "source": [
    "#### Note\n",
    "\n",
    "* Design a method named `calculate_mean_and_std_of_image` to compute the mean and standard deviation of an image.\n",
    "* Use NumPy's `np.mean()` function to calculate the mean value of the image pixels: mean_value = np.mean(image).\n",
    "* Similarly, use NumPy's `np.std()` function to calculate the standard deviation of the image pixels: `std_value = np.std(image)`.\n",
    "* Return Mean Value and the Standard value in the same order"
   ]
  },
  {
   "cell_type": "code",
   "execution_count": 18,
   "id": "0d398056",
   "metadata": {},
   "outputs": [],
   "source": [
    "def calculate_mean_and_std_of_image(test_data, index):\n",
    "    # Get the image at the specified index\n",
    "    test_image = test_data[index]\n",
    "    \n",
    "    # Calculate mean and standard deviation\n",
    "    image_mean = np.mean(test_image)\n",
    "    image_std = np.std(test_image)\n",
    "\n",
    "    return image_mean, image_std"
   ]
  },
  {
   "cell_type": "code",
   "execution_count": 19,
   "id": "025f0648",
   "metadata": {},
   "outputs": [
    {
     "name": "stdout",
     "output_type": "stream",
     "text": [
      "37.31887755102041\n",
      "80.99301022225657\n"
     ]
    }
   ],
   "source": [
    "# Calculate mean and standard deviation using the function\n",
    "mean_value, std_value = calculate_mean_and_std_of_image(X_test, 35)\n",
    "\n",
    "print(mean_value)\n",
    "print(std_value)"
   ]
  },
  {
   "cell_type": "code",
   "execution_count": null,
   "id": "e2141c9b",
   "metadata": {},
   "outputs": [],
   "source": []
  },
  {
   "cell_type": "markdown",
   "id": "4a66999e-07ec-4bc4-abd9-d0d535071a95",
   "metadata": {},
   "source": [
    "#### T1.7: Plot the class frequency of y_train. Is there a class imbalance ? (weightage - 1 mark) (ME)"
   ]
  },
  {
   "cell_type": "markdown",
   "id": "2637b9db",
   "metadata": {},
   "source": [
    "#### Note\n",
    "* Visualize the distribution of classes in the training dataset y_train using a bar plot. \n",
    "* Calculate the frequency of each unique value in the Series y_train using `value_counts` method"
   ]
  },
  {
   "cell_type": "code",
   "execution_count": 20,
   "id": "64cb4c16",
   "metadata": {},
   "outputs": [
    {
     "data": {
      "text/plain": [
       "1    6742\n",
       "7    6265\n",
       "3    6131\n",
       "2    5958\n",
       "9    5949\n",
       "0    5923\n",
       "6    5918\n",
       "8    5851\n",
       "4    5842\n",
       "5    5421\n",
       "dtype: int64"
      ]
     },
     "execution_count": 20,
     "metadata": {},
     "output_type": "execute_result"
    }
   ],
   "source": [
    "#convert to series for the value counts\n",
    "pd.Series(y_train).value_counts()"
   ]
  },
  {
   "cell_type": "code",
   "execution_count": null,
   "id": "f03c4e14",
   "metadata": {},
   "outputs": [],
   "source": [
    "#plot\n",
    "pd.Series(y_train).value_counts().plot(kind = \"barh\")\n",
    "plt.xlabel('Frequency')\n",
    "plt.ylabel('Class Label')\n",
    "plt.title('Class Frequency of y_train')\n",
    "plt.show()"
   ]
  },
  {
   "cell_type": "markdown",
   "id": "65f0e5ce",
   "metadata": {},
   "source": [
    "- Classes 1, 7, and 3 have the highest frequencies, with 6742, 6265, and 6131 occurrences respectively. These classes appear most frequently in the dataset.\n",
    "- Class 5 has the lowest frequency among the classes listed, with 5421 occurrences."
   ]
  },
  {
   "cell_type": "code",
   "execution_count": null,
   "id": "8a58c078",
   "metadata": {},
   "outputs": [],
   "source": []
  },
  {
   "cell_type": "markdown",
   "id": "ee8bed46",
   "metadata": {},
   "source": [
    "#### T1.8: Normalize and scale the data (X_train, X_test) . Why is this step needed ? State the Normalized and Scaled Matrices  (weightage - 2 mark)(ME)"
   ]
  },
  {
   "cell_type": "markdown",
   "id": "052219bd",
   "metadata": {},
   "source": [
    "#### Note\n",
    "\n",
    "* Design a method named `normalize_and_scale` to preprocess image data by normalizing and scaling pixel values.\n",
    "* Use the `reshape` method to flatten images in `X_train` and `X_test` to 2D arrays with one dimension for each pixel.\n",
    "* Scale pixel values in flattened arrays to range [0, 1] by dividing by 255.\n",
    "* Normalize X_train and X_test by dividing by 255\n",
    "* Apply scaling"
   ]
  },
  {
   "cell_type": "code",
   "execution_count": 22,
   "id": "822e5a48",
   "metadata": {},
   "outputs": [],
   "source": [
    "from sklearn.preprocessing import scale\n",
    "\n",
    "def normalize_and_scale(X_train, X_test):\n",
    "    \n",
    "    # Flatten the images\n",
    "    X_train_flat = X_train.reshape(X_train.shape[0], -1)\n",
    "    X_test_flat = X_test.reshape(X_test.shape[0], -1)\n",
    "\n",
    "    # Normalize inputs from 0-255 to 0-1\n",
    "    # Scale the features\n",
    "    X_train_scaled = X_train_flat / 255.0\n",
    "    X_test_scaled = X_test_flat / 255.0\n",
    "    \n",
    "    return X_train_scaled, X_test_scaled"
   ]
  },
  {
   "cell_type": "code",
   "execution_count": 23,
   "id": "154f26ba",
   "metadata": {
    "scrolled": true
   },
   "outputs": [
    {
     "name": "stdout",
     "output_type": "stream",
     "text": [
      "[[0. 0. 0. ... 0. 0. 0.]\n",
      " [0. 0. 0. ... 0. 0. 0.]\n",
      " [0. 0. 0. ... 0. 0. 0.]\n",
      " ...\n",
      " [0. 0. 0. ... 0. 0. 0.]\n",
      " [0. 0. 0. ... 0. 0. 0.]\n",
      " [0. 0. 0. ... 0. 0. 0.]]\n",
      "[[0. 0. 0. ... 0. 0. 0.]\n",
      " [0. 0. 0. ... 0. 0. 0.]\n",
      " [0. 0. 0. ... 0. 0. 0.]\n",
      " ...\n",
      " [0. 0. 0. ... 0. 0. 0.]\n",
      " [0. 0. 0. ... 0. 0. 0.]\n",
      " [0. 0. 0. ... 0. 0. 0.]]\n"
     ]
    }
   ],
   "source": [
    "# Normalize and scale the features using the function\n",
    "X_train_scaled, X_test_scaled = normalize_and_scale(X_train, X_test)\n",
    "\n",
    "print(X_train_scaled)\n",
    "\n",
    "print(X_test_scaled)"
   ]
  },
  {
   "cell_type": "markdown",
   "id": "b287749e",
   "metadata": {},
   "source": [
    "- Normalization ensures that all input features (pixel values in this case) are on a similar scale, typically [0, 1]. This is important because it prevents certain features from dominating the learning process due to their larger numeric ranges.\n",
    "- Scaling adjusts the range of data to a specified range or distribution. In this case, scaling pixel values to [0, 1] is particularly important because: Many machine learning algorithms assume input data is on a similar scale."
   ]
  },
  {
   "cell_type": "code",
   "execution_count": 24,
   "id": "ecf8962e",
   "metadata": {},
   "outputs": [
    {
     "data": {
      "text/plain": [
       "(60000, 784)"
      ]
     },
     "execution_count": 24,
     "metadata": {},
     "output_type": "execute_result"
    }
   ],
   "source": [
    "X_train_scaled.shape"
   ]
  },
  {
   "cell_type": "markdown",
   "id": "d75bf40e-fe10-4855-9184-18754a9080dc",
   "metadata": {},
   "source": [
    "#### T1.9: Reduce the data as per below :      (weightage - 1 mark) (AE)\n",
    "* X_train[0:2000,1:]\n",
    "* y_train[0:2000]\n",
    "* X_test[2001:5000,1:]\n",
    "* y_test[2001:5000] \n",
    "* state the dimension of the X_test  "
   ]
  },
  {
   "cell_type": "markdown",
   "id": "64eb3515",
   "metadata": {},
   "source": [
    "#### Note\n",
    "\n",
    "* Design a method named `reduce_data_size` to reduce the size of both training and test datasets based on provided sizes.\n",
    "* Use slicing to select a subset of train_size samples from the beginning of `X_train` and `y_train`.\n",
    "* Slice X_train and y_train to select rows and labels up to a specified train_size\n",
    "* Similarly, use slicing to select a subset of test_size samples from `X_test` and `y_test`.\n",
    "* Determine the dimensions of the reduced test data (X_test_reduced_dim) using the `shape` attribute.\n",
    "* Return the Reduced X Train, Reduced Y train,Reduced X test, Reduced y test and the dimensions of the reduced X_test in the same order "
   ]
  },
  {
   "cell_type": "code",
   "execution_count": 25,
   "id": "f57f123e",
   "metadata": {},
   "outputs": [],
   "source": [
    "def reduce_data_size(X_train, y_train, X_test,y_test, train_size = 2000, test_size = 5000):\n",
    "    # Slice to select train_size samples from the beginning of X_train and y_train\n",
    "    X_train_reduced = X_train[:train_size, 1:]\n",
    "    y_train_reduced = y_train[:train_size]\n",
    "    \n",
    "    # Slice to select test_size samples from X_test and y_test starting from index 2001\n",
    "    X_test_reduced = X_test[2001:test_size, 1:]\n",
    "    y_test_reduced = y_test[2001:test_size]\n",
    "    \n",
    "    # Determine the dimensions of the reduced test data (X_test_reduced_dim)\n",
    "    X_test_reduced_dim = X_test_reduced.shape\n",
    "    \n",
    "    return X_train_reduced, y_train_reduced, X_test_reduced, y_test_reduced, X_test_reduced_dim\n"
   ]
  },
  {
   "cell_type": "code",
   "execution_count": 26,
   "id": "6186822d",
   "metadata": {},
   "outputs": [
    {
     "name": "stdout",
     "output_type": "stream",
     "text": [
      "(2999, 783)\n"
     ]
    }
   ],
   "source": [
    "# Reduce the size of the data using the function\n",
    "\n",
    "X_train_reduced, y_train_reduced, X_test_reduced, y_test_reduced, X_test_reduced_dim = reduce_data_size(\n",
    "    X_train, y_train, X_test,y_test\n",
    ")\n",
    "\n",
    "print(X_test_reduced_dim)"
   ]
  },
  {
   "cell_type": "code",
   "execution_count": 27,
   "id": "cfe4501c",
   "metadata": {},
   "outputs": [
    {
     "data": {
      "text/plain": [
       "(60000, 784)"
      ]
     },
     "execution_count": 27,
     "metadata": {},
     "output_type": "execute_result"
    }
   ],
   "source": [
    "X_train.shape"
   ]
  },
  {
   "cell_type": "code",
   "execution_count": 28,
   "id": "a07b8b12",
   "metadata": {
    "scrolled": true
   },
   "outputs": [
    {
     "data": {
      "text/plain": [
       "(2000, 783)"
      ]
     },
     "execution_count": 28,
     "metadata": {},
     "output_type": "execute_result"
    }
   ],
   "source": [
    "X_train_reduced.shape"
   ]
  },
  {
   "cell_type": "markdown",
   "id": "caa873fd",
   "metadata": {},
   "source": [
    "### Task 2: Building Models and Optimizations \n",
    "Build deep learning model for Image classification.  (weightage - 65 Marks)"
   ]
  },
  {
   "cell_type": "markdown",
   "id": "25c5e154",
   "metadata": {},
   "source": [
    "#### T2.1 Train the data with Support Vector Classifier on linear kernel and state the accuracy and Confusion Matrix . Write down your observations. (weightage - 4 marks)  (AE & ME)"
   ]
  },
  {
   "cell_type": "markdown",
   "id": "ef9f5482",
   "metadata": {},
   "source": [
    "#### NOTE\n",
    "* Define a function named `linear` that trains and evaluates a linear Support Vector Classifier (SVC) model.\n",
    "* Initialize a Support Vector Classifier (SVC) with a linear kernel `(kernel='linear')`\n",
    "* Fit the classifier using the training data `(X_train_reduced and Y_train_reduced)`\n",
    "* Predict labels for the test data `(X_test_reduced)`\n",
    "* Calculate the accuracy using the `score` funtion of the model\n",
    "* Calculate the confusion matrix using `metrics.confusion_matrix` with true labels. \n",
    "* Funtion `linear` MUST return both the accuracy score and the confusion matrix from your linear model in the same order.\n",
    "* Return Accuracy and Confusion matrix in the same order"
   ]
  },
  {
   "cell_type": "code",
   "execution_count": 29,
   "id": "1c8261cb",
   "metadata": {},
   "outputs": [],
   "source": [
    "from sklearn.svm import SVC\n",
    "from sklearn import metrics\n",
    "from sklearn.metrics import confusion_matrix"
   ]
  },
  {
   "cell_type": "code",
   "execution_count": 30,
   "id": "1f268889",
   "metadata": {},
   "outputs": [],
   "source": [
    "def linear(X_train_reduced, y_train_reduced, X_test_reduced, y_test_reduced):\n",
    "    # Initialize SVC with linear kernel\n",
    "    svc_linear = SVC(kernel='linear')\n",
    "    \n",
    "    # Fit the SVC model\n",
    "    svc_linear.fit(X_train_reduced, y_train_reduced)\n",
    "    \n",
    "    # Predict on test data\n",
    "    y_pred = svc_linear.predict(X_test_reduced)\n",
    "    \n",
    "    # Calculate accuracy\n",
    "    accuracy = svc_linear.score(X_test_reduced, y_test_reduced)\n",
    "    \n",
    "    # Calculate confusion matrix\n",
    "    confusion_mat = metrics.confusion_matrix(y_test_reduced, y_pred)\n",
    "    \n",
    "    # Return accuracy and confusion matrix\n",
    "    return round(accuracy, 3), confusion_mat"
   ]
  },
  {
   "cell_type": "markdown",
   "id": "c0077567",
   "metadata": {},
   "source": [
    "##### accuracy-2 marks (AE), confusion_matrix(ME)-2marks"
   ]
  },
  {
   "cell_type": "code",
   "execution_count": 31,
   "id": "aebd5b94",
   "metadata": {},
   "outputs": [
    {
     "name": "stdout",
     "output_type": "stream",
     "text": [
      "0.856\n"
     ]
    }
   ],
   "source": [
    "# print accuracy\n",
    "accuracy = linear(X_train_reduced, y_train_reduced, X_test_reduced, y_test_reduced)[0]\n",
    "print(accuracy)"
   ]
  },
  {
   "cell_type": "code",
   "execution_count": 32,
   "id": "fdab5a11",
   "metadata": {},
   "outputs": [],
   "source": [
    "# confusion matirx\n",
    "confusion_matrix= linear(X_train_reduced, y_train_reduced, X_test_reduced, y_test_reduced)[1]"
   ]
  },
  {
   "cell_type": "code",
   "execution_count": 33,
   "id": "636b9781",
   "metadata": {},
   "outputs": [
    {
     "data": {
      "text/plain": [
       "array([[271,   0,   8,   0,   1,   1,   1,   0,   2,   1],\n",
       "       [  0, 330,   1,   3,   0,   1,   1,   0,   1,   0],\n",
       "       [  4,   8, 279,   6,   2,   1,   2,   5,   4,   0],\n",
       "       [  1,   1,  11, 231,   0,  34,   1,   6,   6,   2],\n",
       "       [  0,   0,   4,   0, 243,   0,   4,   1,   1,  30],\n",
       "       [  5,   5,   3,  20,   3, 225,   3,   4,   5,   4],\n",
       "       [  5,   2,  17,   1,   3,   5, 249,   0,   1,   0],\n",
       "       [  0,   7,  14,   3,   3,   1,   0, 262,   2,  15],\n",
       "       [  8,   7,   6,  19,   3,  22,   3,   3, 216,  10],\n",
       "       [  3,   5,   8,   8,  18,   3,   0,  18,   2, 261]])"
      ]
     },
     "execution_count": 33,
     "metadata": {},
     "output_type": "execute_result"
    }
   ],
   "source": [
    "confusion_matrix"
   ]
  },
  {
   "cell_type": "markdown",
   "id": "c1e75e2b",
   "metadata": {},
   "source": [
    "#### T2.2 Train the data with Support Vector Classifier on rbf kernel with default gamma, and state the accuracy and Confusion Matrix    (weightage - 4 marks)  (AE)\n",
    "\n",
    "Write down your observations. "
   ]
  },
  {
   "cell_type": "markdown",
   "id": "5c4898a4",
   "metadata": {},
   "source": [
    "#### NOTE\n",
    "* Define a function named `train_non_linear_svm` with four parameters: `X_train_reduced, y_train_reduced, X_test_reduced, and y_test_reduced`\n",
    "* Create a Support Vector Classifier (SVC) with a radial basis function (RBF) kernel `(kernel='rbf')`\n",
    "* Train the classifier using the training data\n",
    "* Predict labels for the test data\n",
    "* Calculate the confusion matrix using `metrics.confusion_matrix` \n",
    "* Calculate the accuracy score using `non_linear_model.score` on the test data.\n",
    "* Funtion `train_non_linear_svm` MUST return both the accuracy score and the confusion matrix from your model in the same order."
   ]
  },
  {
   "cell_type": "code",
   "execution_count": 34,
   "id": "73adf5be",
   "metadata": {},
   "outputs": [],
   "source": [
    "# model\n",
    "def train_non_linear_svm(X_train_reduced, y_train_reduced, X_test_reduced, y_test_reduced):\n",
    "    # Create non-linear SVM model with RBF kernel\n",
    "\n",
    "    # Initialize SVC with RBF kernel\n",
    "    svc_rbf = SVC(kernel='rbf')\n",
    "    \n",
    "    # Train the SVC model\n",
    "    svc_rbf.fit(X_train_reduced, y_train_reduced)\n",
    "    \n",
    "    # Predict on test data\n",
    "    y_pred = svc_rbf.predict(X_test_reduced)\n",
    "    \n",
    "    # Calculate accuracy\n",
    "    accuracy = svc_rbf.score(X_test_reduced, y_test_reduced)\n",
    "    \n",
    "    # Calculate confusion matrix\n",
    "    confusion_mat = metrics.confusion_matrix(y_test_reduced, y_pred)\n",
    "    \n",
    "    # Return accuracy and confusion matrix\n",
    "    return accuracy, confusion_mat"
   ]
  },
  {
   "cell_type": "markdown",
   "id": "b94fde44",
   "metadata": {},
   "source": [
    "##### accuracy-2 marks (AE), confusion_matrix(ME)-2marks"
   ]
  },
  {
   "cell_type": "code",
   "execution_count": 35,
   "id": "0cf4d398",
   "metadata": {},
   "outputs": [
    {
     "name": "stdout",
     "output_type": "stream",
     "text": [
      "0.9106368789596532\n"
     ]
    }
   ],
   "source": [
    "# print accuracy\n",
    "accuracy=train_non_linear_svm(X_train_reduced, y_train_reduced, X_test_reduced, y_test_reduced)[0]\n",
    "print(accuracy)"
   ]
  },
  {
   "cell_type": "code",
   "execution_count": 36,
   "id": "102a7b4f",
   "metadata": {},
   "outputs": [],
   "source": [
    "# print confusion_matrix\n",
    "confusion_matrix=train_non_linear_svm(X_train_reduced, y_train_reduced, X_test_reduced, y_test_reduced)[1]"
   ]
  },
  {
   "cell_type": "code",
   "execution_count": 37,
   "id": "7359d2db",
   "metadata": {},
   "outputs": [
    {
     "data": {
      "text/plain": [
       "array([[277,   0,   2,   0,   1,   3,   1,   0,   1,   0],\n",
       "       [  0, 330,   2,   3,   0,   0,   1,   1,   0,   0],\n",
       "       [  2,   0, 290,   5,   4,   1,   1,   4,   4,   0],\n",
       "       [  1,   1,   7, 248,   0,  27,   0,   4,   5,   0],\n",
       "       [  0,   0,   1,   0, 258,   0,   4,   0,   0,  20],\n",
       "       [  2,   1,   0,   4,   3, 255,   3,   4,   2,   3],\n",
       "       [  6,   2,   6,   0,   4,   4, 261,   0,   0,   0],\n",
       "       [  0,   9,   7,   1,   5,   0,   0, 274,   2,   9],\n",
       "       [  2,   1,   6,   9,   3,  14,   2,   5, 248,   7],\n",
       "       [  5,   6,   2,   4,  12,   1,   0,   5,   1, 290]])"
      ]
     },
     "execution_count": 37,
     "metadata": {},
     "output_type": "execute_result"
    }
   ],
   "source": [
    "confusion_matrix"
   ]
  },
  {
   "cell_type": "markdown",
   "id": "b2fb5508",
   "metadata": {},
   "source": [
    "#### T2.3 : **Model versioning** -    (weightage - 2 marks) ME\n",
    "\n",
    "Save the initial version of a Support Vector Classifier on linear kernel codebase named 'linear_model’ and Support Vector Classifier on rbf kernel codebase named 'rbf_model' to a version control system GitHub using git commands for collaboration, tracking changes, and ensuring transparency in model development. "
   ]
  },
  {
   "cell_type": "markdown",
   "id": "6ac85137",
   "metadata": {},
   "source": [
    "#### Refer to the Github document from Lumen to create the repository and steps to commit \n",
    "#### Add your Github repository link below "
   ]
  },
  {
   "cell_type": "code",
   "execution_count": 38,
   "id": "5785770c",
   "metadata": {},
   "outputs": [],
   "source": [
    "import joblib"
   ]
  },
  {
   "cell_type": "code",
   "execution_count": 39,
   "id": "86e1129a",
   "metadata": {},
   "outputs": [
    {
     "data": {
      "text/plain": [
       "['linear_model.pkl']"
      ]
     },
     "execution_count": 39,
     "metadata": {},
     "output_type": "execute_result"
    }
   ],
   "source": [
    "# Initialize SVC with linear kernel\n",
    "svc_linear = SVC(kernel='linear')\n",
    "\n",
    "# Fit the SVC model\n",
    "svc_linear.fit(X_train_reduced, y_train_reduced)\n",
    "\n",
    "#save the linear model to afile named 'linear_model.pkl'\n",
    "joblib.dump(svc_linear, 'linear_model.pkl')"
   ]
  },
  {
   "cell_type": "code",
   "execution_count": 40,
   "id": "19052c5e",
   "metadata": {},
   "outputs": [
    {
     "data": {
      "text/plain": [
       "['rbf_model.pkl']"
      ]
     },
     "execution_count": 40,
     "metadata": {},
     "output_type": "execute_result"
    }
   ],
   "source": [
    "# Create non-linear SVM model with RBF kernel\n",
    "\n",
    "# Initialize SVC with RBF kernel\n",
    "svc_rbf = SVC(kernel='rbf')\n",
    "\n",
    "# Train the SVC model\n",
    "svc_rbf.fit(X_train_reduced, y_train_reduced)\n",
    "\n",
    "# Save the RBF model to a file named 'rbf_model.pkl'\n",
    "joblib.dump(svc_rbf, 'rbf_model.pkl')"
   ]
  },
  {
   "cell_type": "code",
   "execution_count": null,
   "id": "5acf3aa5",
   "metadata": {},
   "outputs": [],
   "source": []
  },
  {
   "cell_type": "markdown",
   "id": "739c5c65",
   "metadata": {},
   "source": [
    "#### T2.4 : Perform Hyper parameter tuning  and find the optimal values of C and gamma corresponding to RBF kernel    (weightage - 5 marks)  ME"
   ]
  },
  {
   "cell_type": "markdown",
   "id": "75503b39",
   "metadata": {},
   "source": [
    "Use 5 fold cross validation \n",
    "Represent the cv results in a data frame and state your observations  \n",
    "Grid Search: Hyperparameter Tuning\n",
    "Tune the model to find the optimal values of C and gamma corresponding to an RBF kernel. \n",
    "Use 5-fold cross validation."
   ]
  },
  {
   "cell_type": "markdown",
   "id": "4983d0c1",
   "metadata": {},
   "source": [
    "#### NOTE\n",
    "* Define a function named `train_svm_with_grid_search` with two parameters: `X_train_reduced` and `y_train_reduced`\n",
    "* Create a KFold cross-validation object with `5 splits` using `KFold`\n",
    "* Define a range of hyperparameters for the Support Vector Machine (SVM) model. Hyperparameters include `gamma` and `C`\n",
    "* Create an SVM model with a radial basis function `RBF` kernel\n",
    "* Set up a GridSearchCV object (model_cv) with the SVM model, hyperparameter range, scoring method `('accuracy')`, `KFold`, and set verbose=0\n",
    "* Fit the GridSearchCV object to the training data\n",
    "* Return the cross-validation results, best score and best hyperparameters in the same order "
   ]
  },
  {
   "cell_type": "code",
   "execution_count": 41,
   "id": "cb8faee3",
   "metadata": {},
   "outputs": [],
   "source": [
    "from sklearn.model_selection import KFold, GridSearchCV"
   ]
  },
  {
   "cell_type": "code",
   "execution_count": 42,
   "id": "d2aa7fa0",
   "metadata": {},
   "outputs": [],
   "source": [
    "# creating a KFold object with 5 splits \n",
    "def train_svm_with_grid_search(X_train_reduced, y_train_reduced):\n",
    "\n",
    "    # Define KFold cross-validation with 5 splits\n",
    "    kf = KFold(n_splits=5, shuffle=True, random_state=42)\n",
    "    \n",
    "    # Define range of hyperparameters\n",
    "    param_grid = {\n",
    "        'C': [0.1, 1, 10, 100],\n",
    "        'gamma': ['scale', 'auto', 0.1, 1, 10]\n",
    "    }\n",
    "    \n",
    "    # Define SVM model with RBF kernel\n",
    "    svm_model = SVC(kernel='rbf')\n",
    "    \n",
    "    # Set up GridSearchCV\n",
    "    model_cv = GridSearchCV(estimator=svm_model, param_grid=param_grid, scoring='accuracy', cv=kf, verbose=1)\n",
    "    \n",
    "    # Fit the GridSearchCV object to the training data\n",
    "    model_cv.fit(X_train_reduced, y_train_reduced)\n",
    "    \n",
    "    # Return cross-validation results, best score and best hyperparameters\n",
    "    return model_cv.cv_results_, model_cv.best_score_, model_cv.best_params_"
   ]
  },
  {
   "cell_type": "code",
   "execution_count": 43,
   "id": "ffd185ee",
   "metadata": {},
   "outputs": [
    {
     "name": "stdout",
     "output_type": "stream",
     "text": [
      "Fitting 5 folds for each of 20 candidates, totalling 100 fits\n"
     ]
    }
   ],
   "source": [
    "# Call the function to train SVM model with grid search\n",
    "cv_results, best_score, best_hyperparams = train_svm_with_grid_search(X_train_reduced, y_train_reduced)\n",
    "\n",
    "# Display the cross-validation results\n",
    "cv_results_df = pd.DataFrame(cv_results)"
   ]
  },
  {
   "cell_type": "code",
   "execution_count": 44,
   "id": "20cf6238",
   "metadata": {},
   "outputs": [
    {
     "data": {
      "text/html": [
       "<div>\n",
       "<style scoped>\n",
       "    .dataframe tbody tr th:only-of-type {\n",
       "        vertical-align: middle;\n",
       "    }\n",
       "\n",
       "    .dataframe tbody tr th {\n",
       "        vertical-align: top;\n",
       "    }\n",
       "\n",
       "    .dataframe thead th {\n",
       "        text-align: right;\n",
       "    }\n",
       "</style>\n",
       "<table border=\"1\" class=\"dataframe\">\n",
       "  <thead>\n",
       "    <tr style=\"text-align: right;\">\n",
       "      <th></th>\n",
       "      <th>mean_fit_time</th>\n",
       "      <th>std_fit_time</th>\n",
       "      <th>mean_score_time</th>\n",
       "      <th>std_score_time</th>\n",
       "      <th>param_C</th>\n",
       "      <th>param_gamma</th>\n",
       "      <th>params</th>\n",
       "      <th>split0_test_score</th>\n",
       "      <th>split1_test_score</th>\n",
       "      <th>split2_test_score</th>\n",
       "      <th>split3_test_score</th>\n",
       "      <th>split4_test_score</th>\n",
       "      <th>mean_test_score</th>\n",
       "      <th>std_test_score</th>\n",
       "      <th>rank_test_score</th>\n",
       "    </tr>\n",
       "  </thead>\n",
       "  <tbody>\n",
       "    <tr>\n",
       "      <th>0</th>\n",
       "      <td>1.126469</td>\n",
       "      <td>0.042805</td>\n",
       "      <td>0.520627</td>\n",
       "      <td>0.013163</td>\n",
       "      <td>0.1</td>\n",
       "      <td>scale</td>\n",
       "      <td>{'C': 0.1, 'gamma': 'scale'}</td>\n",
       "      <td>0.8575</td>\n",
       "      <td>0.8775</td>\n",
       "      <td>0.8475</td>\n",
       "      <td>0.8225</td>\n",
       "      <td>0.8775</td>\n",
       "      <td>0.8565</td>\n",
       "      <td>0.020591</td>\n",
       "      <td>4</td>\n",
       "    </tr>\n",
       "    <tr>\n",
       "      <th>1</th>\n",
       "      <td>1.727174</td>\n",
       "      <td>0.047876</td>\n",
       "      <td>0.585091</td>\n",
       "      <td>0.012702</td>\n",
       "      <td>0.1</td>\n",
       "      <td>auto</td>\n",
       "      <td>{'C': 0.1, 'gamma': 'auto'}</td>\n",
       "      <td>0.1000</td>\n",
       "      <td>0.0900</td>\n",
       "      <td>0.0875</td>\n",
       "      <td>0.1775</td>\n",
       "      <td>0.1175</td>\n",
       "      <td>0.1145</td>\n",
       "      <td>0.033219</td>\n",
       "      <td>5</td>\n",
       "    </tr>\n",
       "    <tr>\n",
       "      <th>2</th>\n",
       "      <td>1.714401</td>\n",
       "      <td>0.013455</td>\n",
       "      <td>0.591917</td>\n",
       "      <td>0.009900</td>\n",
       "      <td>0.1</td>\n",
       "      <td>0.1</td>\n",
       "      <td>{'C': 0.1, 'gamma': 0.1}</td>\n",
       "      <td>0.1000</td>\n",
       "      <td>0.0900</td>\n",
       "      <td>0.0875</td>\n",
       "      <td>0.1125</td>\n",
       "      <td>0.1175</td>\n",
       "      <td>0.1015</td>\n",
       "      <td>0.011895</td>\n",
       "      <td>9</td>\n",
       "    </tr>\n",
       "    <tr>\n",
       "      <th>3</th>\n",
       "      <td>1.672007</td>\n",
       "      <td>0.030073</td>\n",
       "      <td>0.555075</td>\n",
       "      <td>0.004600</td>\n",
       "      <td>0.1</td>\n",
       "      <td>1</td>\n",
       "      <td>{'C': 0.1, 'gamma': 1}</td>\n",
       "      <td>0.1000</td>\n",
       "      <td>0.0900</td>\n",
       "      <td>0.0875</td>\n",
       "      <td>0.1125</td>\n",
       "      <td>0.1175</td>\n",
       "      <td>0.1015</td>\n",
       "      <td>0.011895</td>\n",
       "      <td>9</td>\n",
       "    </tr>\n",
       "    <tr>\n",
       "      <th>4</th>\n",
       "      <td>1.667992</td>\n",
       "      <td>0.015686</td>\n",
       "      <td>0.569784</td>\n",
       "      <td>0.022093</td>\n",
       "      <td>0.1</td>\n",
       "      <td>10</td>\n",
       "      <td>{'C': 0.1, 'gamma': 10}</td>\n",
       "      <td>0.1000</td>\n",
       "      <td>0.0900</td>\n",
       "      <td>0.0875</td>\n",
       "      <td>0.1125</td>\n",
       "      <td>0.1175</td>\n",
       "      <td>0.1015</td>\n",
       "      <td>0.011895</td>\n",
       "      <td>9</td>\n",
       "    </tr>\n",
       "  </tbody>\n",
       "</table>\n",
       "</div>"
      ],
      "text/plain": [
       "   mean_fit_time  std_fit_time  mean_score_time  std_score_time param_C  \\\n",
       "0       1.126469      0.042805         0.520627        0.013163     0.1   \n",
       "1       1.727174      0.047876         0.585091        0.012702     0.1   \n",
       "2       1.714401      0.013455         0.591917        0.009900     0.1   \n",
       "3       1.672007      0.030073         0.555075        0.004600     0.1   \n",
       "4       1.667992      0.015686         0.569784        0.022093     0.1   \n",
       "\n",
       "  param_gamma                        params  split0_test_score  \\\n",
       "0       scale  {'C': 0.1, 'gamma': 'scale'}             0.8575   \n",
       "1        auto   {'C': 0.1, 'gamma': 'auto'}             0.1000   \n",
       "2         0.1      {'C': 0.1, 'gamma': 0.1}             0.1000   \n",
       "3           1        {'C': 0.1, 'gamma': 1}             0.1000   \n",
       "4          10       {'C': 0.1, 'gamma': 10}             0.1000   \n",
       "\n",
       "   split1_test_score  split2_test_score  split3_test_score  split4_test_score  \\\n",
       "0             0.8775             0.8475             0.8225             0.8775   \n",
       "1             0.0900             0.0875             0.1775             0.1175   \n",
       "2             0.0900             0.0875             0.1125             0.1175   \n",
       "3             0.0900             0.0875             0.1125             0.1175   \n",
       "4             0.0900             0.0875             0.1125             0.1175   \n",
       "\n",
       "   mean_test_score  std_test_score  rank_test_score  \n",
       "0           0.8565        0.020591                4  \n",
       "1           0.1145        0.033219                5  \n",
       "2           0.1015        0.011895                9  \n",
       "3           0.1015        0.011895                9  \n",
       "4           0.1015        0.011895                9  "
      ]
     },
     "execution_count": 44,
     "metadata": {},
     "output_type": "execute_result"
    }
   ],
   "source": [
    "cv_results_df.head()"
   ]
  },
  {
   "cell_type": "code",
   "execution_count": null,
   "id": "5c49ca0f",
   "metadata": {},
   "outputs": [],
   "source": []
  },
  {
   "cell_type": "markdown",
   "id": "b69e2621",
   "metadata": {},
   "source": [
    "#### T2.5 State the optimal accuracy score and hyperparameters. (weightage - 5 marks) ME"
   ]
  },
  {
   "cell_type": "markdown",
   "id": "a80184ba",
   "metadata": {},
   "source": [
    "- best_score (AE) weightage(3 marks)\n",
    "- hyperparameters (ME) weightage (2marks)"
   ]
  },
  {
   "cell_type": "code",
   "execution_count": 45,
   "id": "bef1801a",
   "metadata": {},
   "outputs": [
    {
     "name": "stdout",
     "output_type": "stream",
     "text": [
      "0.935\n"
     ]
    }
   ],
   "source": [
    "# Call the function to train SVM model with grid search\n",
    "\n",
    "\n",
    "# Display the best score best hyperparameters\n",
    "print(round(best_score,3))"
   ]
  },
  {
   "cell_type": "code",
   "execution_count": 46,
   "id": "fe21ec46",
   "metadata": {},
   "outputs": [
    {
     "name": "stdout",
     "output_type": "stream",
     "text": [
      "{'C': 10, 'gamma': 'scale'}\n"
     ]
    }
   ],
   "source": [
    "# Display the best hyperparameters\n",
    "print(best_hyperparams)"
   ]
  },
  {
   "cell_type": "markdown",
   "id": "f0c42f9b-1e15-4270-ba70-f63e2fda0c8d",
   "metadata": {},
   "source": [
    "#### T2.6 Build as base line model with Multilayered Perceptrons-1 layer  after one hot encoding the test data as per the architecture 784...> [784]--->10  (weightage - 5 marks) AE\n",
    "\n",
    "Train data should be normalized and scaled and state the accuracy with 10 epochs , with RELU and Softmax activation, State the accuracy"
   ]
  },
  {
   "cell_type": "markdown",
   "id": "dea88058-925c-485f-86f8-bce113250ef0",
   "metadata": {},
   "source": [
    "### BASE MODEL WITH 1 LAYER "
   ]
  },
  {
   "cell_type": "markdown",
   "id": "dad016b7",
   "metadata": {},
   "source": [
    "#### NOTE\n",
    "* Define a function named `build_and_train_mlp_on_reduced_data` with five parameters: `X_train_reduced, y_train_reduced, X_test_reduced, y_test_reduced, epochs`\n",
    "* One-hot encode the labels using `to_categorical`\n",
    "* Define the MLP model using `Sequential`\n",
    "* Add a dense layer with 784 units and ReLU activation as the input layer and hidden layer.\n",
    "* Add a dense layer with 10 units and softmax activation as the output layer for multiclass classification.\n",
    "* Compile the model using `Adam optimizer` and `categorical crossentropy` loss function.\n",
    "* Train the model using `model.fit`, with training data, labels, number of epochs, batch size, validation split of 0.1, and set verbose =0.\n",
    "* Evaluate the model on test data using `model.evaluate`\n",
    "* Return the test accuracy and the keys of the history dictionary"
   ]
  },
  {
   "cell_type": "code",
   "execution_count": 47,
   "id": "c8540769",
   "metadata": {},
   "outputs": [],
   "source": [
    "import numpy as np\n",
    "from keras.datasets import mnist\n",
    "from keras.utils import to_categorical\n",
    "from keras.models import Sequential\n",
    "from keras.layers import Dense\n",
    "from keras.optimizers import Adam"
   ]
  },
  {
   "cell_type": "code",
   "execution_count": 52,
   "id": "16567e61",
   "metadata": {},
   "outputs": [],
   "source": [
    "def build_and_train_mlp_on_reduced_data(X_train_reduced, y_train_reduced, X_test_reduced, y_test_reduced,\n",
    "                                        epochs=10, batch_size = 32, verbose = 0):\n",
    "    \n",
    "    #scale the data\n",
    "    X_train_reduced = X_train_reduced / 255.0\n",
    "    X_test_reduced = X_test_reduced / 255.0\n",
    "    \n",
    "    # One-hot encode the labels\n",
    "    y_train_reduced = to_categorical(y_train_reduced)\n",
    "    y_test_reduced = to_categorical(y_test_reduced)\n",
    "    \n",
    "    # Define the MLP model\n",
    "    model = Sequential()\n",
    "    model.add(Dense(783, activation='relu', input_shape=(783,)))\n",
    "    model.add(Dense(10, activation='softmax'))\n",
    "    \n",
    "    # Compile the model\n",
    "    model.compile(optimizer=Adam(), loss='categorical_crossentropy', metrics=['accuracy'])\n",
    "    \n",
    "    # Train the model\n",
    "    history = model.fit(X_train_reduced, y_train_reduced, epochs=epochs, batch_size=16,\n",
    "                        validation_split=0.1, verbose=0)\n",
    "    \n",
    "    # Evaluate the model on test data\n",
    "    test_loss, test_acc = model.evaluate(X_test_reduced, y_test_reduced, verbose=0)\n",
    "    \n",
    "    return test_acc, list(history.history.keys())\n",
    "    "
   ]
  },
  {
   "cell_type": "code",
   "execution_count": 53,
   "id": "20df1e18",
   "metadata": {},
   "outputs": [
    {
     "name": "stdout",
     "output_type": "stream",
     "text": [
      "Test Accuracy: 0.8930\n",
      "History Keys: ['loss', 'accuracy', 'val_loss', 'val_accuracy']\n"
     ]
    }
   ],
   "source": [
    "# build and train mlp on reduced data\n",
    "test_accuracy, history_keys = build_and_train_mlp_on_reduced_data(X_train_reduced, y_train_reduced,\n",
    "                                                                  X_test_reduced, y_test_reduced,epochs=10,batch_size=32)\n",
    "\n",
    "print(f'Test Accuracy: {test_accuracy:.4f}')\n",
    "print(f'History Keys: {list(history_keys)}')"
   ]
  },
  {
   "cell_type": "markdown",
   "id": "0da6fecd",
   "metadata": {},
   "source": [
    "#### T2.7 state the history keys post incorporating the validation_split=0.33  (weightage - 2 marks) ME"
   ]
  },
  {
   "cell_type": "code",
   "execution_count": 124,
   "id": "568fa9e6",
   "metadata": {},
   "outputs": [],
   "source": [
    "def build_and_train_mlp_on_reduced_data(X_train_reduced, y_train_reduced, X_test_reduced, y_test_reduced,\n",
    "                                        epochs=10, batch_size = 32, verbose = 0):\n",
    "    \n",
    "    # One-hot encode the labels\n",
    "    y_train_reduced = to_categorical(y_train_reduced)\n",
    "    y_test_reduced = to_categorical(y_test_reduced)\n",
    "    \n",
    "    # Define the MLP model\n",
    "    model = Sequential()\n",
    "    model.add(Dense(783, activation='relu', input_shape=(783,)))\n",
    "    model.add(Dense(10, activation='softmax'))\n",
    "    \n",
    "    # Compile the model\n",
    "    model.compile(optimizer=Adam(), loss='categorical_crossentropy', metrics=['accuracy'])\n",
    "    \n",
    "    # Train the model\n",
    "    history = model.fit(X_train_reduced, y_train_reduced, epochs=epochs, batch_size=16,\n",
    "                        validation_split=0.33, verbose=0)\n",
    "    \n",
    "    # Evaluate the model on test data\n",
    "    test_loss, test_acc = model.evaluate(X_test_reduced, y_test_reduced, verbose=0)\n",
    "    \n",
    "    return test_acc, list(history.history.keys())"
   ]
  },
  {
   "cell_type": "code",
   "execution_count": 125,
   "id": "801fd1b7",
   "metadata": {},
   "outputs": [
    {
     "name": "stdout",
     "output_type": "stream",
     "text": [
      "Test Accuracy: 0.8133\n",
      "History Keys: ['loss', 'accuracy', 'val_loss', 'val_accuracy']\n"
     ]
    }
   ],
   "source": [
    "# X_train_reduced, y_train_reduced, X_test_reduced, y_test_reduced are defined\n",
    "test_accuracy, history_keys = build_and_train_mlp_on_reduced_data(X_train_reduced, y_train_reduced,\n",
    "                                                                  X_test_reduced, y_test_reduced)\n",
    "\n",
    "print(f'Test Accuracy: {test_accuracy:.4f}')\n",
    "print(f'History Keys: {list(history_keys)}')\n"
   ]
  },
  {
   "cell_type": "markdown",
   "id": "c80c9937",
   "metadata": {},
   "source": [
    "#### T2.8: Plot a graph to summarize the history for accuracy , validation_accuracy, loss , validation_loss (weightage - 5 marks) ME"
   ]
  },
  {
   "cell_type": "markdown",
   "id": "ddbb8fae",
   "metadata": {},
   "source": [
    "#### NOTE\n",
    "* Define a function named `build_and_train_mlp_on_reduced_data` with five parameters: `X_train_reduced, y_train_reduced, X_test_reduced, y_test_reduced, epochs`\n",
    "* Normalize and scale the training and test data \n",
    "* One-hot encode the labels using `to_categorical`\n",
    "* Define the MLP model using `Sequential`\n",
    "* Add a dense layer with 784 units and ReLU activation, serving as both input and hidden layer. Follow it \n",
    "  with a dense layer featuring 10 units and softmax activation for multiclass classification.\n",
    "* Compile the model using `Adam optimizer` and `categorical crossentropy` loss function.\n",
    "* Train the model using `model.fit`, with training data, labels, number of epochs, batch size, validation   split of 0.1, and set verbose = 0.\n",
    "* Evaluate the model on test data using `model.evaluate`\n",
    "* Plot the training and validation accuracy and loss using `plt.plot`"
   ]
  },
  {
   "cell_type": "code",
   "execution_count": 126,
   "id": "9fcd9837",
   "metadata": {},
   "outputs": [],
   "source": [
    "from sklearn.preprocessing import StandardScaler"
   ]
  },
  {
   "cell_type": "code",
   "execution_count": 127,
   "id": "b3157a1b",
   "metadata": {},
   "outputs": [],
   "source": [
    "def build_and_train_mlp_on_reduced_data(X_train_reduced, y_train_reduced, X_test_reduced,\n",
    "                                              y_test_reduced, epochs=10, batch_size = 32, verbose = 0):\n",
    "    \n",
    "    # Normalize and scale the training and test data\n",
    "    scaler = StandardScaler()\n",
    "    X_train_scaled = scaler.fit_transform(X_train_reduced)\n",
    "    X_test_scaled = scaler.transform(X_test_reduced)\n",
    "    \n",
    "    # One-hot encode the labels\n",
    "    y_train_encoded = to_categorical(y_train_reduced, num_classes=10)\n",
    "    y_test_encoded = to_categorical(y_test_reduced, num_classes=10)\n",
    "    \n",
    "    # Define the MLP model\n",
    "    model = Sequential([\n",
    "        Dense(784, input_dim=X_train_scaled.shape[1], activation='relu'),\n",
    "        Dense(10, activation='softmax')\n",
    "    ])\n",
    "\n",
    "    # Compile the model\n",
    "    model.compile(optimizer=Adam(), loss='categorical_crossentropy', metrics=['accuracy'])\n",
    "   \n",
    "    # Train the model. Set verbose=0 to suppress output.\n",
    "    history = model.fit(\n",
    "        X_train_scaled, y_train_encoded,\n",
    "        epochs=epochs, batch_size=16, validation_split=0.1, verbose=0)\n",
    "    \n",
    "    # Evaluate the model on test data. Set verbose=0 to suppress output.\n",
    "    test_loss, test_accuracy = model.evaluate(X_test_scaled, y_test_encoded, verbose=0)\n",
    "    print(f'Test loss: {round(test_loss, 3)}')\n",
    "    print(f'Test accuracy: {round(test_accuracy, 3)}')\n",
    "    \n",
    "    # Plot history\n",
    "    plt.figure(figsize=(12, 5))\n",
    "\n",
    "    plt.subplot(1, 2, 1)\n",
    "    plt.plot(history.history['accuracy'], label='Training Accuracy')\n",
    "    plt.plot(history.history['val_accuracy'], label='Validation Accuracy')\n",
    "    plt.xlabel('Epochs')\n",
    "    plt.ylabel('Accuracy')\n",
    "    plt.title('Accuracy over Epochs')\n",
    "    plt.legend()\n",
    "\n",
    "    plt.subplot(1, 2, 2)\n",
    "    plt.plot(history.history['loss'], label='Training Loss')\n",
    "    plt.plot(history.history['val_loss'], label='Validation Loss')\n",
    "    plt.xlabel('Epochs')\n",
    "    plt.ylabel('Loss')\n",
    "    plt.title('Loss over Epochs')\n",
    "    plt.legend()\n",
    "\n",
    "    plt.tight_layout()\n",
    "    plt.show()\n",
    "    \n",
    "    return"
   ]
  },
  {
   "cell_type": "code",
   "execution_count": 128,
   "id": "e039ee1d",
   "metadata": {},
   "outputs": [
    {
     "name": "stdout",
     "output_type": "stream",
     "text": [
      "Test loss: 0.611\n",
      "Test accuracy: 0.884\n"
     ]
    },
    {
     "data": {
      "image/png": "[encoded data removed]",
      "text/plain": [
       "<Figure size 1200x500 with 2 Axes>"
      ]
     },
     "metadata": {},
     "output_type": "display_data"
    }
   ],
   "source": [
    "# # Call the function to build, train, and evaluate the MLP model on reduced size data\n",
    "build_and_train_mlp_on_reduced_data(X_train_reduced, y_train_reduced, X_test_reduced,\n",
    "                                          y_test_reduced, epochs=10)\n"
   ]
  },
  {
   "cell_type": "code",
   "execution_count": null,
   "id": "41bd2f8a",
   "metadata": {},
   "outputs": [],
   "source": []
  },
  {
   "cell_type": "markdown",
   "id": "24da22ce",
   "metadata": {},
   "source": [
    "#### T2.9 Generate a prediction matrix for X_test (weightage - 3 marks) ME"
   ]
  },
  {
   "cell_type": "markdown",
   "id": "e10085da",
   "metadata": {},
   "source": [
    "#### NOTE\n",
    "* Define a function named `build_and_train_mlp_on_reduced_data_1` with five parameters: `X_train_reduced, y_train_reduced, X_test_reduced, y_test_reduced, epochs`\n",
    "* Normalize and scale the training and test data \n",
    "* One-hot encode the labels using `to_categorical`\n",
    "* Define the MLP model using `Sequential`\n",
    "* Begin with a dense layer featuring 784 units and ReLU activation, serving as both input and hidden layer. \n",
    "  Then, append a dense layer with 10 units and softmax activation, suitable for multiclass classification.\n",
    "* Compile the model using `Adam optimizer` and `categorical crossentropy` loss function.\n",
    "* Train the model using `model.fit`, with training data, labels, number of epochs, batch size, validation split of 0.1, and set verbose = 0.\n",
    "* Evaluate the model on test data using `model.evaluate`\n",
    "* Make predictions for the test data using `model.predict`\n",
    "* Retun test_accuracy, predictions om the same order"
   ]
  },
  {
   "cell_type": "code",
   "execution_count": 129,
   "id": "1655b8d6",
   "metadata": {},
   "outputs": [],
   "source": [
    "def build_and_train_mlp_on_reduced_data_1(X_train_reduced, y_train_reduced, X_test_reduced, \n",
    "                                          y_test_reduced, epochs=10):\n",
    "    \n",
    "    # Normalize and scale the training and test data\n",
    "    scaler = StandardScaler()\n",
    "    X_train_scaled = scaler.fit_transform(X_train_reduced)\n",
    "    X_test_scaled = scaler.transform(X_test_reduced)\n",
    "    \n",
    "    # One-hot encode the labels\n",
    "    y_train_encoded = to_categorical(y_train_reduced, num_classes=10)\n",
    "    y_test_encoded = to_categorical(y_test_reduced, num_classes=10)\n",
    "    \n",
    "    # Define the MLP model\n",
    "    model = Sequential([\n",
    "        Dense(784, input_dim=X_train_scaled.shape[1], activation='relu'),\n",
    "        Dense(10, activation='softmax')\n",
    "    ])\n",
    "   \n",
    "    # Compile the model\n",
    "    model.compile(optimizer=Adam(), loss='categorical_crossentropy', metrics=['accuracy'])\n",
    "    \n",
    "    # Train the model. Set verbose=0 to suppress output.\n",
    "    history = model.fit(\n",
    "        X_train_scaled, y_train_encoded,\n",
    "        epochs=epochs,\n",
    "        batch_size=32,\n",
    "        validation_split=0.1,\n",
    "        verbose=0\n",
    "    )\n",
    "    \n",
    "    # Evaluate the model on test data. Set verbose=0 to suppress output.\n",
    "    test_loss, test_accuracy = model.evaluate(X_test_scaled, y_test_encoded, verbose=0)\n",
    "    print(f'Test loss: {test_loss}')\n",
    "    print(f'Test accuracy: {test_accuracy}')\n",
    "    \n",
    "    # Predictions for X_test.Set verbose=0 to suppress output.\n",
    "    predictions = model.predict(X_test_scaled, verbose=0)\n",
    "\n",
    "    #retun test_accuracy, predictions    \n",
    "    return test_accuracy, predictions"
   ]
  },
  {
   "cell_type": "code",
   "execution_count": 130,
   "id": "843758aa",
   "metadata": {},
   "outputs": [
    {
     "name": "stdout",
     "output_type": "stream",
     "text": [
      "Test loss: 0.5347051620483398\n",
      "Test accuracy: 0.8802934288978577\n"
     ]
    }
   ],
   "source": [
    "# Call the function to build, train, and evaluate the MLP model on reduced size data\n",
    "\n",
    "test_accuracy, predictions = build_and_train_mlp_on_reduced_data_1(X_train_reduced, y_train_reduced,\n",
    "                                                                   X_test_reduced, y_test_reduced, epochs=10)"
   ]
  },
  {
   "cell_type": "code",
   "execution_count": 131,
   "id": "3ddc0484",
   "metadata": {},
   "outputs": [
    {
     "name": "stdout",
     "output_type": "stream",
     "text": [
      "Test Accuracy: 0.8802934288978577\n"
     ]
    }
   ],
   "source": [
    "# Print test accuracy\n",
    "print(f'Test Accuracy: {test_accuracy}')"
   ]
  },
  {
   "cell_type": "code",
   "execution_count": 132,
   "id": "0b7c4831",
   "metadata": {},
   "outputs": [
    {
     "name": "stdout",
     "output_type": "stream",
     "text": [
      "Predictions Matrix: [[7.40822032e-02 5.60081787e-07 2.93505709e-05 ... 5.90932881e-03\n",
      "  1.32528529e-01 1.20236024e-01]\n",
      " [3.46318211e-06 5.85860143e-05 3.55392258e-05 ... 3.29544287e-06\n",
      "  4.17452793e-06 1.64617741e-05]\n",
      " [6.91998357e-05 3.42854742e-06 9.49002924e-07 ... 2.19392060e-08\n",
      "  1.40472560e-03 6.60599562e-06]\n",
      " ...\n",
      " [8.02432944e-04 1.46661291e-03 9.41175282e-01 ... 1.58772266e-07\n",
      "  3.82033736e-03 1.26427028e-06]\n",
      " [4.55841104e-07 3.30580311e-04 9.51088878e-05 ... 3.14348639e-04\n",
      "  1.18507691e-04 4.39450145e-02]\n",
      " [1.00000000e+00 1.43959284e-16 2.06327346e-13 ... 3.01767752e-13\n",
      "  1.00644037e-12 5.89646257e-12]]\n"
     ]
    }
   ],
   "source": [
    "# Print prediction matrix for X_test\n",
    "print(f'Predictions Matrix: {predictions}')"
   ]
  },
  {
   "cell_type": "markdown",
   "id": "74c04d05",
   "metadata": {},
   "source": [
    "#### T2.10: Build the model with 2 hidden layers with 120 neurons in the second layer with tanh activation and state the accuracy  (weightage - 7 marks) AE"
   ]
  },
  {
   "cell_type": "markdown",
   "id": "2d6bda27",
   "metadata": {},
   "source": [
    "#### NOTE\n",
    "* Define a function named `preprocess_data` with four parameters: `X_train, X_test, y_train, and y_test`\n",
    "  Inside the function:\n",
    "    * Scale the input features using `StandardScaler`\n",
    "    * One-hot encode the target labels using `LabelBinarizer`\n",
    "* Return the preprocessed data: Normalised X_train, Normalised X_test,one hot encoded y_train,one hot encoded y_test"
   ]
  },
  {
   "cell_type": "code",
   "execution_count": 133,
   "id": "b1d815cb",
   "metadata": {},
   "outputs": [],
   "source": [
    "from keras.models import Sequential\n",
    "from keras.layers import Dense\n",
    "from sklearn.preprocessing import StandardScaler, LabelBinarizer\n",
    "\n",
    "def preprocess_data(X_train, X_test, y_train, y_test):\n",
    "    # Scale the input features\n",
    "    scaler = StandardScaler()\n",
    "    X_train_scaled = scaler.fit_transform(X_train)\n",
    "    X_test_scaled = scaler.transform(X_test)\n",
    "\n",
    "    # One-hot encode the target labels\n",
    "    lb = LabelBinarizer()\n",
    "    y_train_encoded = lb.fit_transform(y_train)\n",
    "    y_test_encoded = lb.transform(y_test)\n",
    "\n",
    "    # Return the preprocessed data: Normalised X_train, Normalised X_test,one hot encoded y_train,one hot encoded y_test\n",
    "    return X_train_scaled, X_test_scaled, y_train_encoded, y_test_encoded"
   ]
  },
  {
   "cell_type": "markdown",
   "id": "ad72c91f",
   "metadata": {},
   "source": [
    "* Define a function named `create_model` with two parameters: `input_dim and num_classes`.      \n",
    "  Inside the function:\n",
    "    * Create a Sequential model.\n",
    "    * Start with a Dense layer with ReLU activation, followed by another Dense layer with hyperbolic tangent activation, and conclude with a Dense layer using softmax activation.\n",
    "    * Compile the model using `categorical crossentropy loss` and `Adam optimizer`\n",
    "* Preprocess the data using the `preprocess_data` function.\n",
    "* Create the model using the `create_model function` with appropriate parameters.\n",
    "* Train the model using the `fit method`, with the preprocessed training data, one-hot encoded training labels, number of epochs, batch size, validation split of 0.1, and set verbose = 0.\n",
    "* retun model"
   ]
  },
  {
   "cell_type": "code",
   "execution_count": 134,
   "id": "66bddf3d",
   "metadata": {},
   "outputs": [
    {
     "data": {
      "text/plain": [
       "(60000, 784)"
      ]
     },
     "execution_count": 134,
     "metadata": {},
     "output_type": "execute_result"
    }
   ],
   "source": [
    "X_train.shape"
   ]
  },
  {
   "cell_type": "code",
   "execution_count": 135,
   "id": "9c9b44a1",
   "metadata": {},
   "outputs": [],
   "source": [
    "def create_model(input_dim, num_classes):\n",
    "    # Create a Sequential model\n",
    "    model = Sequential([\n",
    "        Dense(784, input_dim=input_dim, activation='relu'),\n",
    "        Dense(120, activation='tanh'),\n",
    "        Dense(num_classes, activation='softmax')\n",
    "    ])\n",
    "    \n",
    "    # Compile the model\n",
    "    model.compile(optimizer=Adam(), loss='categorical_crossentropy', metrics=['accuracy'])\n",
    "    \n",
    "    return model"
   ]
  },
  {
   "cell_type": "code",
   "execution_count": null,
   "id": "d2539381",
   "metadata": {},
   "outputs": [],
   "source": []
  },
  {
   "cell_type": "code",
   "execution_count": 136,
   "id": "471bcbbc",
   "metadata": {},
   "outputs": [],
   "source": [
    "# Assuming num_pixels and num_classes are defined appropriately\n",
    "num_pixels = 784\n",
    "num_classes = 10\n",
    "\n",
    "# Preprocess the data\n",
    "X_train_scaled, X_test_scaled, y_train_encoded, y_test_encoded = preprocess_data(X_train, X_test, y_train, y_test)\n",
    "\n",
    "# Create the model\n",
    "model = create_model(num_pixels, num_classes)\n",
    "\n",
    "# Train the model. Set verbose=0 to suppress output.\n",
    "model_train = model.fit(X_train_scaled, y_train_encoded, epochs=10, batch_size=32, validation_split=0.1, verbose=0)"
   ]
  },
  {
   "cell_type": "code",
   "execution_count": 137,
   "id": "76af8636",
   "metadata": {},
   "outputs": [
    {
     "name": "stdout",
     "output_type": "stream",
     "text": [
      "Test loss: 0.13753890991210938\n",
      "Test accuracy: 0.9648000001907349\n"
     ]
    }
   ],
   "source": [
    "# Evaluate the model. Set verbose=0 to suppress output.\n",
    "test_loss, test_accuracy = model.evaluate(X_test_scaled, y_test_encoded, verbose=0)\n",
    "print(f'Test loss: {test_loss}')\n",
    "print(f'Test accuracy: {test_accuracy}')"
   ]
  },
  {
   "cell_type": "markdown",
   "id": "b0b912aa",
   "metadata": {},
   "source": [
    "#### T2.11 Model versioning - Save the above version of a model with 2 hidden layers codebase named 'new_model’ to a version control system GitHub using git commands for collaboration, tracking changes, and ensuring transparency in model development. And bring the model and do evaluation.  (weightage - 3 marks)  ME"
   ]
  },
  {
   "cell_type": "code",
   "execution_count": 138,
   "id": "d5ca9274",
   "metadata": {},
   "outputs": [],
   "source": [
    "# Save the model\n",
    "model.save('new_model.h5')"
   ]
  },
  {
   "cell_type": "code",
   "execution_count": 139,
   "id": "882b697c",
   "metadata": {},
   "outputs": [],
   "source": [
    "from tensorflow.keras.models import load_model"
   ]
  },
  {
   "cell_type": "code",
   "execution_count": 140,
   "id": "fb8ad217",
   "metadata": {},
   "outputs": [],
   "source": [
    "# To load the model for later use\n",
    "loaded_model = load_model('new_model.h5')"
   ]
  },
  {
   "cell_type": "code",
   "execution_count": 141,
   "id": "f4308db4",
   "metadata": {},
   "outputs": [
    {
     "name": "stdout",
     "output_type": "stream",
     "text": [
      "Test loss: 0.138\n",
      "Test accuracy: 0.965\n"
     ]
    }
   ],
   "source": [
    "# Evaluate the model\n",
    "test_loss, test_accuracy = model.evaluate(X_test_scaled, y_test_encoded, verbose=0)\n",
    "print(f'Test loss: {round(test_loss,3)}')\n",
    "print(f'Test accuracy: {round(test_accuracy,3)}')"
   ]
  },
  {
   "cell_type": "code",
   "execution_count": null,
   "id": "649eec08",
   "metadata": {},
   "outputs": [],
   "source": []
  },
  {
   "cell_type": "markdown",
   "id": "8d1692b1",
   "metadata": {},
   "source": [
    "#### T2.12 Optimize the previous 2 layered model with Drop out regularization of 0.1 in each of the layers State the accuracy  (weightage - 10 marks) AE"
   ]
  },
  {
   "cell_type": "markdown",
   "id": "15e3047d",
   "metadata": {},
   "source": [
    "#### NOTE\n",
    "* Define a function named `baseline_model_with_dropout`\n",
    "    * Create a Sequential model.\n",
    "    * Sequentially add Dense layers with ReLU activation, Dropout regularization, another Dense layer with hyperbolic tangent activation, another Dropout layer, and finalize with a Dense layer using softmax activation\n",
    "    * Compile the model using `categorical crossentropy loss` and `Adam optimizer`\n",
    "    * Return the model\n",
    "    \n",
    "* Create the model using the `baseline_model_with_dropout function`\n",
    "* Train the model using the `fit method`, with the preprocessed training data, one-hot encoded training labels, number of epochs, batch size, validation split of 0.1, and set verbose = 0.\n",
    "* Evaluate the model using the evaluate method with the preprocessed test data and one-hot encoded test labels, and print the test accuracy."
   ]
  },
  {
   "cell_type": "markdown",
   "id": "b25fad44-0147-4e4d-878f-8105105e1e09",
   "metadata": {},
   "source": [
    "##### Applying Dropout "
   ]
  },
  {
   "cell_type": "code",
   "execution_count": 142,
   "id": "c0f5db76",
   "metadata": {},
   "outputs": [
    {
     "name": "stdout",
     "output_type": "stream",
     "text": [
      "Test loss: 0.11102163046598434\n",
      "Test accuracy: 0.9702000021934509\n"
     ]
    }
   ],
   "source": [
    "from keras.models import Sequential\n",
    "from keras.layers import Dense, Dropout\n",
    "\n",
    "def baseline_model_with_dropout():\n",
    "    # create model\n",
    "    model = Sequential([\n",
    "        Dense(784, input_dim=784, activation='relu'),\n",
    "        Dropout(0.1),\n",
    "        Dense(120, activation='tanh'),\n",
    "        Dropout(0.1),\n",
    "        Dense(10, activation='softmax')\n",
    "    ])\n",
    "    \n",
    "    # Compile model\n",
    "    model.compile(optimizer=Adam(), loss='categorical_crossentropy', metrics=['accuracy'])\n",
    "    \n",
    "    # Return the model\n",
    "    return model\n",
    "\n",
    "\n",
    "# Create the model\n",
    "model = baseline_model_with_dropout()\n",
    "\n",
    "# Train the model.Set verbose=0 to suppress output.\n",
    "model_train = model.fit(X_train_scaled, y_train_encoded, epochs=10, \n",
    "                        batch_size=32, validation_split=0.1, verbose=0)\n",
    "\n",
    "# Evaluate the model.Set verbose=0 to suppress output.\n",
    "test_loss, test_accuracy = model.evaluate(X_test_scaled, y_test_encoded, verbose=0)\n",
    "print(f'Test loss: {test_loss}')\n",
    "print(f'Test accuracy: {test_accuracy}')"
   ]
  },
  {
   "cell_type": "code",
   "execution_count": null,
   "id": "94b95366",
   "metadata": {},
   "outputs": [],
   "source": []
  },
  {
   "cell_type": "markdown",
   "id": "9360bd4e",
   "metadata": {},
   "source": [
    "#### T2.13 : Train the dataset using CONV2D AND DROP OUT 0.2.State the accuracy and write your observations.  (weightage - 10 marks) AE"
   ]
  },
  {
   "cell_type": "markdown",
   "id": "b53012a4",
   "metadata": {},
   "source": [
    "#### NOTE\n",
    "* Define a function named `cnn_model_with_dropout`\n",
    "* Sequentially apply convolutional and pooling layers, flatten the output, add a fully connected layer with ReLU activation and dropout, and finalize with a softmax layer\n",
    "* Compile the model using `Adam optimizer` and `categorical crossentropy loss`\n",
    "* Create the CNN model with dropout using the `cnn_model_with_dropout function`\n",
    "* Train the model using the `fit method`, with the reshaped preprocessed training data, one-hot encoded training labels, number of epochs, batch size, validation split of 0.1, and set verbose = 0.\n",
    "* Evaluate the model using the evaluate method with the reshaped preprocessed test data and one-hot encoded test labels, and print the test accuracy."
   ]
  },
  {
   "cell_type": "code",
   "execution_count": 143,
   "id": "9ecd6a0e",
   "metadata": {},
   "outputs": [
    {
     "name": "stdout",
     "output_type": "stream",
     "text": [
      "Test loss: 0.03755772486329079\n",
      "Test accuracy: 0.9901999831199646\n"
     ]
    }
   ],
   "source": [
    "from keras.models import Sequential\n",
    "from keras.layers import Conv2D, MaxPooling2D, Flatten, Dense, Dropout\n",
    "\n",
    "def cnn_model_with_dropout():\n",
    "    \n",
    "    #create model with convolutional layers\n",
    "    model = Sequential([\n",
    "        Conv2D(32, (3, 3), activation='relu', input_shape=(28, 28, 1)),\n",
    "        MaxPooling2D((2, 2)),\n",
    "        Dropout(0.2),\n",
    "        Conv2D(64, (3, 3), activation='relu'),\n",
    "        MaxPooling2D((2, 2)),\n",
    "        Dropout(0.2),\n",
    "        Flatten(),\n",
    "        Dense(128, activation='relu'),\n",
    "        Dropout(0.2),\n",
    "        Dense(10, activation='softmax')\n",
    "    ])\n",
    "    \n",
    "    model.compile(optimizer=Adam(), loss='categorical_crossentropy', metrics=['accuracy'])\n",
    "    return model\n",
    "\n",
    "# Create the CNN model with dropout\n",
    "model = cnn_model_with_dropout()\n",
    "\n",
    "# Train the model.Set verbose=0 to suppress output.\n",
    "# Reshape data to fit the model\n",
    "X_train_scaled = X_train_scaled.reshape(-1, 28, 28, 1)\n",
    "X_test_scaled = X_test_scaled.reshape(-1, 28, 28, 1)\n",
    "\n",
    "#model train\n",
    "history = model.fit(X_train_scaled, y_train_encoded, epochs=10, batch_size=32, validation_split=0.1, verbose=0)\n",
    "\n",
    "# Evaluate the model.Set verbose=0 to suppress output.\n",
    "test_loss, test_accuracy = model.evaluate(X_test_scaled, y_test_encoded, verbose=0)\n",
    "print(f'Test loss: {test_loss}')\n",
    "print(f'Test accuracy: {test_accuracy}')"
   ]
  },
  {
   "cell_type": "markdown",
   "id": "520bda74",
   "metadata": {},
   "source": [
    "### Observations\n",
    "- Dropout regularization significantly improved the CNN model's test accuracy to 99.02% compared to 96.63% for the normal sequential model without dropout.\n",
    "\n",
    "- Dropout helped mitigate overfitting by introducing noise during training, leading to better generalization and lower test loss of 0.0478 compared to 0.1267 without dropout.\n",
    "\n",
    "- The CNN model with dropout demonstrated robust performance, showcasing its effectiveness in enhancing model stability and accuracy on unseen data."
   ]
  },
  {
   "cell_type": "code",
   "execution_count": null,
   "id": "4ebe7a1a",
   "metadata": {},
   "outputs": [],
   "source": []
  },
  {
   "cell_type": "markdown",
   "id": "ed67456b",
   "metadata": {},
   "source": [
    "### Task 3: Model Deployment: Deploy the trained model into a production environment,  allowing stakeholders to utilize it for real-time forecasting Develop an  intuitive user interface to facilitate easy interaction with the model.                                                                                             (weightage – 10 marks)   \n"
   ]
  },
  {
   "cell_type": "markdown",
   "id": "0b76db5f",
   "metadata": {},
   "source": [
    "#### T3.1 Using Lime/SHAP libraries, explain the prediction of your model and give inferences (weightage - 4 marks) ME"
   ]
  },
  {
   "cell_type": "code",
   "execution_count": null,
   "id": "bf8723ca",
   "metadata": {},
   "outputs": [],
   "source": []
  },
  {
   "cell_type": "markdown",
   "id": "025571dd",
   "metadata": {},
   "source": [
    "#### T3.2 Implement the unit test case and deploy a model (saving the file as a .t5 model). Using the saved .t5 model file to create a webapp using flask/streamlit code  (weightage - 6 marks) ME"
   ]
  },
  {
   "cell_type": "code",
   "execution_count": null,
   "id": "d45b9521",
   "metadata": {},
   "outputs": [],
   "source": []
  },
  {
   "cell_type": "code",
   "execution_count": null,
   "id": "8efe5819",
   "metadata": {},
   "outputs": [],
   "source": []
  },
  {
   "cell_type": "markdown",
   "id": "1cbb11a7",
   "metadata": {},
   "source": [
    "### Task 4: Summarize the findings of the analysis and draw conclusions with PPT / PDF.                                                                                   (weightage - 15 marks) "
   ]
  },
  {
   "cell_type": "code",
   "execution_count": null,
   "id": "e6370f3f",
   "metadata": {},
   "outputs": [],
   "source": []
  },
  {
   "cell_type": "code",
   "execution_count": null,
   "id": "ef2fd2b5",
   "metadata": {},
   "outputs": [],
   "source": []
  },
  {
   "cell_type": "markdown",
   "id": "aa17b018",
   "metadata": {},
   "source": [
    "**Final Submission guidelines:**  \n",
    "\n",
    "- Download the Jupyter notebook in the format of html.  \n",
    "- Upload it in the lumen (UNext LMS) \n",
    "- Take a screenshot of T3.2 (Deployment) and upload it in the lumen (UNext LMS) \n",
    "- Summarized PPT/ PDF prepared in Task 4 to be uploaded in the lumen (UNext LMS) "
   ]
  }
 ],
 "metadata": {
  "kernelspec": {
   "display_name": "Python 3 (ipykernel)",
   "language": "python",
   "name": "python3"
  },
  "language_info": {
   "codemirror_mode": {
    "name": "ipython",
    "version": 3
   },
   "file_extension": ".py",
   "mimetype": "text/x-python",
   "name": "python",
   "nbconvert_exporter": "python",
   "pygments_lexer": "ipython3",
   "version": "3.8.10"
  },
  "vscode": {
   "interpreter": {
    "hash": "5b3ded1ccb95c1d9bd405e7b823d9e85424cde40fbb5985eb47e999ef50e15b4"
   }
  }
 },
 "nbformat": 4,
 "nbformat_minor": 5
}
